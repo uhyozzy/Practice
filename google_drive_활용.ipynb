{
  "nbformat": 4,
  "nbformat_minor": 0,
  "metadata": {
    "colab": {
      "provenance": [],
      "authorship_tag": "ABX9TyNFteeazG/lHkMYl/PL2aCf",
      "include_colab_link": true
    },
    "kernelspec": {
      "name": "python3",
      "display_name": "Python 3"
    },
    "language_info": {
      "name": "python"
    }
  },
  "cells": [
    {
      "cell_type": "markdown",
      "metadata": {
        "id": "view-in-github",
        "colab_type": "text"
      },
      "source": [
        "<a href=\"https://colab.research.google.com/github/uhyozzy/Practice/blob/master/google_drive_%ED%99%9C%EC%9A%A9.ipynb\" target=\"_parent\"><img src=\"https://colab.research.google.com/assets/colab-badge.svg\" alt=\"Open In Colab\"/></a>"
      ]
    },
    {
      "cell_type": "code",
      "execution_count": null,
      "metadata": {
        "colab": {
          "base_uri": "https://localhost:8080/",
          "height": 108
        },
        "id": "C68LwMpYbM-n",
        "outputId": "916c90c0-22d3-48bf-e4b3-1792891efb9b"
      },
      "outputs": [
        {
          "output_type": "stream",
          "name": "stderr",
          "text": [
            "Downloading...\n",
            "From: https://docs.google.com/spreadsheets/d/1DIkCE9f6ES4rEi6zOosBL22iSFBTbEjO/edit#gid=1451928920\n",
            "To: /content/전체데이터관리_230804.xlsx\n",
            "569kB [00:00, 4.87MB/s]\n"
          ]
        },
        {
          "output_type": "execute_result",
          "data": {
            "text/plain": [
              "'전체데이터관리_230804.xlsx'"
            ],
            "application/vnd.google.colaboratory.intrinsic+json": {
              "type": "string"
            }
          },
          "metadata": {},
          "execution_count": 2
        }
      ],
      "source": [
        "import gdown\n",
        "gdown.download('https://docs.google.com/spreadsheets/d/1DIkCE9f6ES4rEi6zOosBL22iSFBTbEjO/edit#gid=1451928920','전체데이터관리_230804.xlsx',quiet=False)"
      ]
    },
    {
      "cell_type": "code",
      "source": [
        "with open('전체데이터관리_230804.xlsx') as f:\n",
        "  print(f.readline())"
      ],
      "metadata": {
        "colab": {
          "base_uri": "https://localhost:8080/"
        },
        "id": "sidZ9TsDb39q",
        "outputId": "69fa684a-e49f-4d87-fbc2-2d168410bf76"
      },
      "execution_count": null,
      "outputs": [
        {
          "output_type": "stream",
          "name": "stdout",
          "text": [
            "<!DOCTYPE html><html lang=\"en-US\"><head><script nonce=\"IPSmHBFw2hPaaq4_IHZwsg\">var DOCS_timing={}; DOCS_timing['pls']=new Date().getTime();</script><meta property=\"og:title\" content=\"전체데이터관리_230804.xlsx\"><meta property=\"og:type\" content=\"article\"><meta property=\"og:site_name\" content=\"Google Docs\"><meta property=\"og:url\" content=\"https://docs.google.com/spreadsheets/d/1DIkCE9f6ES4rEi6zOosBL22iSFBTbEjO/edit?usp=embed_facebook\"><meta property=\"og:image\" content=\"https://lh3.googleusercontent.com/docs/AOD9vFpJfQauFaHwZC1vuBd5o_zotqbuNdkT9x59IbeurN4UrIIUrvGRYdTGfAMGmHzC6QpRF8XXfS32S2NYIbSo-K9Zp9xhzA=w1200-h630-p\"><meta property=\"og:image:width\" content=\"1200\"><meta property=\"og:image:height\" content=\"630\"><meta property=\"og:description\" content=\"main\n",
            "\n"
          ]
        }
      ]
    },
    {
      "cell_type": "markdown",
      "source": [
        "**파일 인코딩 형식 확인하기**\n",
        "- chardet.detect()함수"
      ],
      "metadata": {
        "id": "wfOjSJB8cIhd"
      }
    },
    {
      "cell_type": "code",
      "source": [
        "import chardet\n",
        "with open('전체데이터관리_230804.xlsx', mode='rb') as f:\n",
        "  d = f.readline()\n",
        "print(chardet.detect(d))"
      ],
      "metadata": {
        "colab": {
          "base_uri": "https://localhost:8080/"
        },
        "id": "1qJQ9BWvcBax",
        "outputId": "e4a6a26a-e44d-44fe-e9c4-f0b36f0adcca"
      },
      "execution_count": null,
      "outputs": [
        {
          "output_type": "stream",
          "name": "stdout",
          "text": [
            "{'encoding': 'utf-8', 'confidence': 0.99, 'language': ''}\n"
          ]
        }
      ]
    },
    {
      "cell_type": "code",
      "source": [
        "with open('전체데이터관리_230804.xlsx', encoding='utf-8') as f:\n",
        "  print(f.readline())\n",
        "  print(f.readline())"
      ],
      "metadata": {
        "colab": {
          "base_uri": "https://localhost:8080/"
        },
        "id": "m7PmYg_ecXdX",
        "outputId": "826d8f59-fe50-4440-f77b-6ef4f6719f27"
      },
      "execution_count": null,
      "outputs": [
        {
          "output_type": "stream",
          "name": "stdout",
          "text": [
            "<!DOCTYPE html><html lang=\"en-US\"><head><script nonce=\"IPSmHBFw2hPaaq4_IHZwsg\">var DOCS_timing={}; DOCS_timing['pls']=new Date().getTime();</script><meta property=\"og:title\" content=\"전체데이터관리_230804.xlsx\"><meta property=\"og:type\" content=\"article\"><meta property=\"og:site_name\" content=\"Google Docs\"><meta property=\"og:url\" content=\"https://docs.google.com/spreadsheets/d/1DIkCE9f6ES4rEi6zOosBL22iSFBTbEjO/edit?usp=embed_facebook\"><meta property=\"og:image\" content=\"https://lh3.googleusercontent.com/docs/AOD9vFpJfQauFaHwZC1vuBd5o_zotqbuNdkT9x59IbeurN4UrIIUrvGRYdTGfAMGmHzC6QpRF8XXfS32S2NYIbSo-K9Zp9xhzA=w1200-h630-p\"><meta property=\"og:image:width\" content=\"1200\"><meta property=\"og:image:height\" content=\"630\"><meta property=\"og:description\" content=\"main\n",
            "\n",
            "\n",
            "\n"
          ]
        }
      ]
    }
  ]
}